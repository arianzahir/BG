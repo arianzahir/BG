{
 "cells": [
  {
   "cell_type": "markdown",
   "metadata": {},
   "source": [
    "# U²-Net Fine-tuning for Clothing Background Removal\n",
    "Follow the steps below to fine-tune U²-Net on your dataset (images + masks)."
   ]
  },
  {
   "cell_type": "code",
   "execution_count": null,
   "metadata": {},
   "outputs": [],
   "source": [
    "!nvidia-smi || echo 'No GPU runtime detected'\n",
    "!pip -q install torch torchvision opencv-python pillow matplotlib tqdm"
   ]
  },
  {
   "cell_type": "code",
   "execution_count": null,
   "metadata": {},
   "outputs": [],
   "source": [
    "!git clone https://github.com/xuebinqin/U-2-Net.git\n",
    "%cd U-2-Net"
   ]
  },
  {
   "cell_type": "code",
   "execution_count": null,
   "metadata": {},
   "outputs": [],
   "source": [
    "import os, glob, random, numpy as np, torch, torchvision as tv\n",
    "from PIL import Image\n",
    "from torch.utils.data import Dataset, DataLoader\n",
    "from tqdm import tqdm\n",
    "from model import U2NET\n",
    "import torch.nn.functional as F\n"
   ]
  },
  {
   "cell_type": "code",
   "execution_count": null,
   "metadata": {},
   "outputs": [],
   "source": [
    "# Mount Drive if using Google Drive\n",
    "from google.colab import drive\n",
    "drive.mount('/content/drive')\n",
    "DATA_ROOT = '/content/drive/MyDrive/u2net_clothing_dataset'  # set to your path\n",
    "IMG_DIR = os.path.join(DATA_ROOT, 'images')\n",
    "MSK_DIR = os.path.join(DATA_ROOT, 'masks')\n",
    "SAVE_PATH = '/content/drive/MyDrive/u2net_clothing.pth'\n"
   ]
  },
  {
   "cell_type": "code",
   "execution_count": null,
   "metadata": {},
   "outputs": [],
   "source": [
    "class PairDataset(Dataset):\n",
    "  def __init__(self, img_dir, msk_dir, size=320):\n",
    "    self.img_paths = sorted(glob.glob(os.path.join(img_dir, '*')))\n",
    "    self.msk_paths = sorted(glob.glob(os.path.join(msk_dir, '*')))\n",
    "    assert len(self.img_paths) == len(self.msk_paths) and len(self.img_paths) > 0\n",
    "    self.size = size\n",
    "\n",
    "  def __len__(self):\n",
    "    return len(self.img_paths)\n",
    "\n",
    "  def __getitem__(self, idx):\n",
    "    img = Image.open(self.img_paths[idx]).convert('RGB').resize((self.size, self.size))\n",
    "    msk = Image.open(self.msk_paths[idx]).convert('L').resize((self.size, self.size))\n",
    "    img = np.array(img).astype(np.float32) / 255.0\n",
    "    img = np.transpose(img, (2,0,1))\n",
    "    msk = np.array(msk).astype(np.float32) / 255.0\n",
    "    msk = np.expand_dims(msk, 0)\n",
    "    return torch.from_numpy(img), torch.from_numpy(msk)\n"
   ]
  },
  {
   "cell_type": "code",
   "execution_count": null,
   "metadata": {},
   "outputs": [],
   "source": [
    "device = torch.device('cuda' if torch.cuda.is_available() else 'cpu')\n",
    "train_ds = PairDataset(IMG_DIR, MSK_DIR, size=320)\n",
    "train_dl = DataLoader(train_ds, batch_size=4, shuffle=True, num_workers=2, pin_memory=True)\n",
    "model = U2NET(3,1).to(device)\n",
    "opt = torch.optim.Adam(model.parameters(), lr=1e-3)\n"
   ]
  },
  {
   "cell_type": "code",
   "execution_count": null,
   "metadata": {},
   "outputs": [],
   "source": [
    "def bce_loss(pred, target):\n",
    "  return F.binary_cross_entropy_with_logits(pred, target)\n",
    "\n",
    "EPOCHS = 10\n",
    "for epoch in range(EPOCHS):\n",
    "  model.train()\n",
    "  pbar = tqdm(train_dl, desc=f'Epoch {epoch+1}/{EPOCHS}')\n",
    "  total = 0.0\n",
    "  for x, y in pbar:\n",
    "    x, y = x.to(device), y.to(device)\n",
    "    opt.zero_grad()\n",
    "    outs = model(x)\n",
    "    if isinstance(outs, (list, tuple)):\n",
    "      logits = outs[0]\n",
    "    else:\n",
    "      logits = outs\n",
    "    loss = bce_loss(logits, y)\n",
    "    loss.backward()\n",
    "    opt.step()\n",
    "    total += loss.item() * x.size(0)\n",
    "    pbar.set_postfix(loss=loss.item())\n",
    "  print('epoch_loss', total/len(train_ds))\n",
    "torch.save(model.state_dict(), SAVE_PATH)\n",
    "print('Saved to', SAVE_PATH)\n"
   ]
  }
 ],
 "metadata": {
  "kernelspec": {
   "display_name": "Python 3",
   "language": "python",
   "name": "python3"
  },
  "language_info": {
   "name": "python",
   "version": "3.10"
  }
 },
 "nbformat": 4,
 "nbformat_minor": 2
}
